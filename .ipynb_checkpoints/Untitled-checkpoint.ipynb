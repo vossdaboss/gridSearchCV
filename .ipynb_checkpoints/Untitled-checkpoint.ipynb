{
 "cells": [
  {
   "cell_type": "code",
   "execution_count": 1,
   "id": "31c887b5",
   "metadata": {},
   "outputs": [
    {
     "name": "stdout",
     "output_type": "stream",
     "text": [
      "  Gender Married Dependents     Education Self_Employed  ApplicantIncome  \\\n",
      "0   Male      No          0      Graduate            No             5849   \n",
      "1   Male     Yes          1      Graduate            No             4583   \n",
      "2   Male     Yes          0      Graduate           Yes             3000   \n",
      "3   Male     Yes          0  Not Graduate            No             2583   \n",
      "4   Male      No          0      Graduate            No             6000   \n",
      "\n",
      "   CoapplicantIncome  LoanAmount  Loan_Amount_Term  Credit_History  \\\n",
      "0                0.0         NaN             360.0             1.0   \n",
      "1             1508.0       128.0             360.0             1.0   \n",
      "2                0.0        66.0             360.0             1.0   \n",
      "3             2358.0       120.0             360.0             1.0   \n",
      "4                0.0       141.0             360.0             1.0   \n",
      "\n",
      "  Property_Area Loan_Status  \n",
      "0         Urban           Y  \n",
      "1         Rural           N  \n",
      "2         Urban           Y  \n",
      "3         Urban           Y  \n",
      "4         Urban           Y  \n"
     ]
    }
   ],
   "source": [
    "import pandas as pd \n",
    "import numpy as np \n",
    "import seaborn as sns \n",
    "import matplotlib.pyplot as plt\n",
    "\n",
    "import warnings\n",
    "warnings.filterwarnings(\"ignore\")\n",
    "\n",
    "from sklearn.model_selection import train_test_split\n",
    "from sklearn.metrics import classification_report,f1_score,precision_score,recall_score,accuracy_score,confusion_matrix\n",
    "from sklearn.model_selection import GridSearchCV, StratifiedKFold, StratifiedShuffleSplit\n",
    "\n",
    "loan = pd.read_csv('train_u6lujuX_CVtuZ9i (1).csv')\n",
    "loan = loan.drop(['Loan_ID'],axis=1)\n",
    "loan.head().style.set_properties(**{'background-color': 'Yellow',\n",
    "                            'color': 'Blue',\n",
    "                            'border-color': 'Blue',\n",
    "                            'font-size' : '15px','font-family': 'Lucida Calligraphy'})\n",
    "display(loan.head())"
   ]
  },
  {
   "cell_type": "code",
   "execution_count": null,
   "id": "8e06c16b",
   "metadata": {},
   "outputs": [],
   "source": []
  }
 ],
 "metadata": {
  "kernelspec": {
   "display_name": "Python 3 (ipykernel)",
   "language": "python",
   "name": "python3"
  },
  "language_info": {
   "codemirror_mode": {
    "name": "ipython",
    "version": 3
   },
   "file_extension": ".py",
   "mimetype": "text/x-python",
   "name": "python",
   "nbconvert_exporter": "python",
   "pygments_lexer": "ipython3",
   "version": "3.10.9"
  }
 },
 "nbformat": 4,
 "nbformat_minor": 5
}
